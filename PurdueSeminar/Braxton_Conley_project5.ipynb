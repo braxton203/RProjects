{
 "cells": [
  {
   "cell_type": "markdown",
   "id": "be02a957-7133-4d02-818e-fedeb3cecb05",
   "metadata": {},
   "source": [
    "# Project 5 -- Braxton Conley"
   ]
  },
  {
   "cell_type": "markdown",
   "id": "a1228853-dd19-4ab2-89e0-0394d7d72de3",
   "metadata": {},
   "source": [
    "**TA Help:** N/A\n",
    "    \n",
    "**Collaboration:** N/A\n",
    "    "
   ]
  },
  {
   "cell_type": "markdown",
   "id": "6180e742-8e39-4698-98ff-5b00c8cf8ea0",
   "metadata": {},
   "source": [
    "## Question 1"
   ]
  },
  {
   "cell_type": "code",
   "execution_count": 1,
   "id": "49445606-d363-41b4-b479-e319a9a84c01",
   "metadata": {},
   "outputs": [
    {
     "data": {
      "text/html": [
       "<table class=\"dataframe\">\n",
       "<caption>A data.table: 6 x 38</caption>\n",
       "<thead>\n",
       "\t<tr><th scope=col>Id</th><th scope=col>ResidentStatus</th><th scope=col>Education1989Revision</th><th scope=col>Education2003Revision</th><th scope=col>EducationReportingFlag</th><th scope=col>MonthOfDeath</th><th scope=col>Sex</th><th scope=col>AgeType</th><th scope=col>Age</th><th scope=col>AgeSubstitutionFlag</th><th scope=col>...</th><th scope=col>CauseRecode39</th><th scope=col>NumberOfEntityAxisConditions</th><th scope=col>NumberOfRecordAxisConditions</th><th scope=col>Race</th><th scope=col>BridgedRaceFlag</th><th scope=col>RaceImputationFlag</th><th scope=col>RaceRecode3</th><th scope=col>RaceRecode5</th><th scope=col>HispanicOrigin</th><th scope=col>HispanicOriginRaceRecode</th></tr>\n",
       "\t<tr><th scope=col>&lt;int&gt;</th><th scope=col>&lt;int&gt;</th><th scope=col>&lt;int&gt;</th><th scope=col>&lt;int&gt;</th><th scope=col>&lt;int&gt;</th><th scope=col>&lt;int&gt;</th><th scope=col>&lt;chr&gt;</th><th scope=col>&lt;int&gt;</th><th scope=col>&lt;int&gt;</th><th scope=col>&lt;int&gt;</th><th scope=col>...</th><th scope=col>&lt;int&gt;</th><th scope=col>&lt;int&gt;</th><th scope=col>&lt;int&gt;</th><th scope=col>&lt;int&gt;</th><th scope=col>&lt;int&gt;</th><th scope=col>&lt;int&gt;</th><th scope=col>&lt;int&gt;</th><th scope=col>&lt;int&gt;</th><th scope=col>&lt;int&gt;</th><th scope=col>&lt;int&gt;</th></tr>\n",
       "</thead>\n",
       "<tbody>\n",
       "\t<tr><td> 3</td><td>1</td><td>0</td><td>7</td><td>1</td><td>1</td><td>F</td><td>1</td><td>75</td><td>0</td><td>...</td><td>28</td><td>2</td><td>2</td><td>1</td><td>0</td><td>0</td><td>1</td><td>1</td><td>100</td><td>6</td></tr>\n",
       "\t<tr><td> 6</td><td>1</td><td>0</td><td>5</td><td>1</td><td>1</td><td>F</td><td>1</td><td>93</td><td>0</td><td>...</td><td>37</td><td>5</td><td>5</td><td>1</td><td>0</td><td>0</td><td>1</td><td>1</td><td>100</td><td>6</td></tr>\n",
       "\t<tr><td> 9</td><td>1</td><td>0</td><td>3</td><td>1</td><td>1</td><td>F</td><td>1</td><td>86</td><td>0</td><td>...</td><td>37</td><td>1</td><td>1</td><td>1</td><td>0</td><td>0</td><td>1</td><td>1</td><td>100</td><td>6</td></tr>\n",
       "\t<tr><td>11</td><td>1</td><td>0</td><td>3</td><td>1</td><td>1</td><td>F</td><td>1</td><td>79</td><td>0</td><td>...</td><td>22</td><td>2</td><td>2</td><td>1</td><td>0</td><td>0</td><td>1</td><td>1</td><td>100</td><td>6</td></tr>\n",
       "\t<tr><td>13</td><td>1</td><td>0</td><td>4</td><td>1</td><td>1</td><td>F</td><td>1</td><td>85</td><td>0</td><td>...</td><td>22</td><td>5</td><td>5</td><td>1</td><td>0</td><td>0</td><td>1</td><td>1</td><td>100</td><td>6</td></tr>\n",
       "\t<tr><td>14</td><td>1</td><td>0</td><td>3</td><td>1</td><td>1</td><td>F</td><td>1</td><td>84</td><td>0</td><td>...</td><td> 8</td><td>2</td><td>2</td><td>1</td><td>0</td><td>0</td><td>1</td><td>1</td><td>100</td><td>6</td></tr>\n",
       "</tbody>\n",
       "</table>\n"
      ],
      "text/latex": [
       "A data.table: 6 x 38\n",
       "\\begin{tabular}{lllllllllllllllllllll}\n",
       " Id & ResidentStatus & Education1989Revision & Education2003Revision & EducationReportingFlag & MonthOfDeath & Sex & AgeType & Age & AgeSubstitutionFlag & ... & CauseRecode39 & NumberOfEntityAxisConditions & NumberOfRecordAxisConditions & Race & BridgedRaceFlag & RaceImputationFlag & RaceRecode3 & RaceRecode5 & HispanicOrigin & HispanicOriginRaceRecode\\\\\n",
       " <int> & <int> & <int> & <int> & <int> & <int> & <chr> & <int> & <int> & <int> & ... & <int> & <int> & <int> & <int> & <int> & <int> & <int> & <int> & <int> & <int>\\\\\n",
       "\\hline\n",
       "\t  3 & 1 & 0 & 7 & 1 & 1 & F & 1 & 75 & 0 & ... & 28 & 2 & 2 & 1 & 0 & 0 & 1 & 1 & 100 & 6\\\\\n",
       "\t  6 & 1 & 0 & 5 & 1 & 1 & F & 1 & 93 & 0 & ... & 37 & 5 & 5 & 1 & 0 & 0 & 1 & 1 & 100 & 6\\\\\n",
       "\t  9 & 1 & 0 & 3 & 1 & 1 & F & 1 & 86 & 0 & ... & 37 & 1 & 1 & 1 & 0 & 0 & 1 & 1 & 100 & 6\\\\\n",
       "\t 11 & 1 & 0 & 3 & 1 & 1 & F & 1 & 79 & 0 & ... & 22 & 2 & 2 & 1 & 0 & 0 & 1 & 1 & 100 & 6\\\\\n",
       "\t 13 & 1 & 0 & 4 & 1 & 1 & F & 1 & 85 & 0 & ... & 22 & 5 & 5 & 1 & 0 & 0 & 1 & 1 & 100 & 6\\\\\n",
       "\t 14 & 1 & 0 & 3 & 1 & 1 & F & 1 & 84 & 0 & ... &  8 & 2 & 2 & 1 & 0 & 0 & 1 & 1 & 100 & 6\\\\\n",
       "\\end{tabular}\n"
      ],
      "text/markdown": [
       "\n",
       "A data.table: 6 x 38\n",
       "\n",
       "| Id &lt;int&gt; | ResidentStatus &lt;int&gt; | Education1989Revision &lt;int&gt; | Education2003Revision &lt;int&gt; | EducationReportingFlag &lt;int&gt; | MonthOfDeath &lt;int&gt; | Sex &lt;chr&gt; | AgeType &lt;int&gt; | Age &lt;int&gt; | AgeSubstitutionFlag &lt;int&gt; | ... ... | CauseRecode39 &lt;int&gt; | NumberOfEntityAxisConditions &lt;int&gt; | NumberOfRecordAxisConditions &lt;int&gt; | Race &lt;int&gt; | BridgedRaceFlag &lt;int&gt; | RaceImputationFlag &lt;int&gt; | RaceRecode3 &lt;int&gt; | RaceRecode5 &lt;int&gt; | HispanicOrigin &lt;int&gt; | HispanicOriginRaceRecode &lt;int&gt; |\n",
       "|---|---|---|---|---|---|---|---|---|---|---|---|---|---|---|---|---|---|---|---|---|\n",
       "|  3 | 1 | 0 | 7 | 1 | 1 | F | 1 | 75 | 0 | ... | 28 | 2 | 2 | 1 | 0 | 0 | 1 | 1 | 100 | 6 |\n",
       "|  6 | 1 | 0 | 5 | 1 | 1 | F | 1 | 93 | 0 | ... | 37 | 5 | 5 | 1 | 0 | 0 | 1 | 1 | 100 | 6 |\n",
       "|  9 | 1 | 0 | 3 | 1 | 1 | F | 1 | 86 | 0 | ... | 37 | 1 | 1 | 1 | 0 | 0 | 1 | 1 | 100 | 6 |\n",
       "| 11 | 1 | 0 | 3 | 1 | 1 | F | 1 | 79 | 0 | ... | 22 | 2 | 2 | 1 | 0 | 0 | 1 | 1 | 100 | 6 |\n",
       "| 13 | 1 | 0 | 4 | 1 | 1 | F | 1 | 85 | 0 | ... | 22 | 5 | 5 | 1 | 0 | 0 | 1 | 1 | 100 | 6 |\n",
       "| 14 | 1 | 0 | 3 | 1 | 1 | F | 1 | 84 | 0 | ... |  8 | 2 | 2 | 1 | 0 | 0 | 1 | 1 | 100 | 6 |\n",
       "\n"
      ],
      "text/plain": [
       "  Id ResidentStatus Education1989Revision Education2003Revision\n",
       "1  3 1              0                     7                    \n",
       "2  6 1              0                     5                    \n",
       "3  9 1              0                     3                    \n",
       "4 11 1              0                     3                    \n",
       "5 13 1              0                     4                    \n",
       "6 14 1              0                     3                    \n",
       "  EducationReportingFlag MonthOfDeath Sex AgeType Age AgeSubstitutionFlag ...\n",
       "1 1                      1            F   1       75  0                   ...\n",
       "2 1                      1            F   1       93  0                   ...\n",
       "3 1                      1            F   1       86  0                   ...\n",
       "4 1                      1            F   1       79  0                   ...\n",
       "5 1                      1            F   1       85  0                   ...\n",
       "6 1                      1            F   1       84  0                   ...\n",
       "  CauseRecode39 NumberOfEntityAxisConditions NumberOfRecordAxisConditions Race\n",
       "1 28            2                            2                            1   \n",
       "2 37            5                            5                            1   \n",
       "3 37            1                            1                            1   \n",
       "4 22            2                            2                            1   \n",
       "5 22            5                            5                            1   \n",
       "6  8            2                            2                            1   \n",
       "  BridgedRaceFlag RaceImputationFlag RaceRecode3 RaceRecode5 HispanicOrigin\n",
       "1 0               0                  1           1           100           \n",
       "2 0               0                  1           1           100           \n",
       "3 0               0                  1           1           100           \n",
       "4 0               0                  1           1           100           \n",
       "5 0               0                  1           1           100           \n",
       "6 0               0                  1           1           100           \n",
       "  HispanicOriginRaceRecode\n",
       "1 6                       \n",
       "2 6                       \n",
       "3 6                       \n",
       "4 6                       \n",
       "5 6                       \n",
       "6 6                       "
      ]
     },
     "metadata": {},
     "output_type": "display_data"
    },
    {
     "data": {
      "text/plain": [
       "\n",
       "    1     2     3     4     5     6     7     8     9    10    11    12    13 \n",
       " 3164  2100  1346   937   820   583   495   511   418   472   358   347   386 \n",
       "   14    15    16    17    18    19    20    21    22    23    24    25    26 \n",
       "  410   499   533   636   735   827   936  1058  1117  1086  1155  1200  1320 \n",
       "   27    28    29    30    31    32    33    34    35    36    37    38    39 \n",
       " 1264  1340  1438  1452  1535  1683  1804  1878  2059  1999  2226  2267  2413 \n",
       "   40    41    42    43    44    45    46    47    48    49    50    51    52 \n",
       " 2577  2953  3324  3681  4091  4229  4524  4957  5664  6520  7247  8190  8740 \n",
       "   53    54    55    56    57    58    59    60    61    62    63    64    65 \n",
       " 9616 10189 11062 11748 12443 12762 13358 13977 14518 15142 15664 16284 17276 \n",
       "   66    67    68    69    70    71    72    73    74    75    76    77    78 \n",
       "18813 20865 17669 18584 20486 22755 22041 22074 22656 24026 25305 26091 27780 \n",
       "   79    80    81    82    83    84    85    86    87    88    89    90    91 \n",
       "29768 30499 32783 34991 37101 40035 40848 42914 44502 44126 44660 44348 41943 \n",
       "   92    93    94    95    96    97    98    99   100   101   102   103   104 \n",
       "39900 35799 31040 24847 21551 16784 13132  9881  7289  5153  3478  2186  1373 \n",
       "  105   106   107   108   109   110   111   112   113   114   999 \n",
       "  864   436   271   164    76    24    24     5     6     5   216 "
      ]
     },
     "metadata": {},
     "output_type": "display_data"
    },
    {
     "data": {
      "text/plain": [
       "\n",
       "    1     2     3     4     5     6     7     8     9    10    11    12    13 \n",
       " 3164  2100  1346   937   820   583   495   511   418   472   358   347   386 \n",
       "   14    15    16    17    18    19    20    21    22    23    24    25    26 \n",
       "  410   499   533   636   735   827   936  1058  1117  1086  1155  1200  1320 \n",
       "   27    28    29    30    31    32    33    34    35    36    37    38    39 \n",
       " 1264  1340  1438  1452  1535  1683  1804  1878  2059  1999  2226  2267  2413 \n",
       "   40    41    42    43    44    45    46    47    48    49    50    51    52 \n",
       " 2577  2953  3324  3681  4091  4229  4524  4957  5664  6520  7247  8190  8740 \n",
       "   53    54    55    56    57    58    59    60    61    62    63    64    65 \n",
       " 9616 10189 11062 11748 12443 12762 13358 13977 14518 15142 15664 16284 17276 \n",
       "   66    67    68    69    70    71    72    73    74    75    76    77    78 \n",
       "18813 20865 17669 18584 20486 22755 22041 22074 22656 24026 25305 26091 27780 \n",
       "   79    80    81    82    83    84    85    86    87    88    89    90    91 \n",
       "29768 30499 32783 34991 37101 40035 40848 42914 44502 44126 44660 44348 41943 \n",
       "   92    93    94    95    96    97    98    99   100   101   102   103   104 \n",
       "39900 35799 31040 24847 21551 16784 13132  9881  7289  5153  3478  2186  1373 \n",
       "  105   106   107   108   109   110   111   112   113   114 \n",
       "  864   436   271   164    76    24    24     5     6     5 "
      ]
     },
     "metadata": {},
     "output_type": "display_data"
    },
    {
     "data": {
      "image/png": "[encoded data removed]",
      "text/plain": [
       "plot without title"
      ]
     },
     "metadata": {
      "image/png": {
       "height": 420,
       "width": 420
      }
     },
     "output_type": "display_data"
    },
    {
     "data": {
      "image/png": "[encoded data removed]",
      "text/plain": [
       "plot without title"
      ]
     },
     "metadata": {
      "image/png": {
       "height": 420,
       "width": 420
      }
     },
     "output_type": "display_data"
    }
   ],
   "source": [
    "#Load in the library data.table for the fread function\n",
    "library(data.table)\n",
    "#Load the death records into the data frame using the fread function\n",
    "myDF <- fread(\"/anvil/projects/tdm/data/death_records/DeathRecords.csv\")\n",
    "#Using the subset function and specifying only rows with F for sex\n",
    "goodDF <- subset(myDF, Sex=='F')\n",
    "#Checking the subset for only F in the sex column using head function\n",
    "head(goodDF)\n",
    "#Using the table function to display the number of people for each age\n",
    "table(goodDF$Age)\n",
    "#Using the plot function to plot the table\n",
    "plot(table(goodDF$Age))\n",
    "#Using the subset function and specifying only rows with F for sex and removing rows where age is 999\n",
    "truegoodDF <- subset(myDF, (Sex=='F') & (Age!=999))\n",
    "#Using the table function to display the number of people for each age\n",
    "table(truegoodDF$Age)\n",
    "#Using the plot function to plot the table\n",
    "plot(table(truegoodDF$Age))"
   ]
  },
  {
   "cell_type": "markdown",
   "id": "b456e57c-4a12-464b-999a-ef2df5af80c1",
   "metadata": {},
   "source": [
    "To build the dataframe that shows only rows with 'F' in the Sex column I use the subset function and put the original dataframe in the first parameter. In the second parameter I put Sex=='F' because I am specifying I only want rows where in the Sex column the value is 'F'. I then display the head of the new dataframe to check that I only have row with 'F' in the Sex column. I then use the table function to display a table specifying that I want to use the new dataframe showing the number of people with 'F' for every age. I then use the plot function to plot the table. N/A vlaues are stored in 999 so I create another subset from the origional the same as before but adding that I do not want any 999 (Age!=999) values. I then display the table and plot again showing the removed 999 age."
   ]
  },
  {
   "cell_type": "markdown",
   "id": "fc601975-35ed-4680-a4e1-0273ee3cc047",
   "metadata": {},
   "source": [
    "## Question 2"
   ]
  },
  {
   "cell_type": "code",
   "execution_count": 2,
   "id": "a16336a1-1ef0-41e8-bc7c-49387db27497",
   "metadata": {},
   "outputs": [
    {
     "data": {
      "text/html": [
       "<style>\n",
       ".list-inline {list-style: none; margin:0; padding: 0}\n",
       ".list-inline>li {display: inline-block}\n",
       ".list-inline>li:not(:last-child)::after {content: \"\\00b7\"; padding: 0 .5ex}\n",
       "</style>\n",
       "<ol class=list-inline><li>10625553</li><li>9</li></ol>\n"
      ],
      "text/latex": [
       "\\begin{enumerate*}\n",
       "\\item 10625553\n",
       "\\item 9\n",
       "\\end{enumerate*}\n"
      ],
      "text/markdown": [
       "1. 10625553\n",
       "2. 9\n",
       "\n",
       "\n"
      ],
      "text/plain": [
       "[1] 10625553        9"
      ]
     },
     "metadata": {},
     "output_type": "display_data"
    },
    {
     "data": {
      "text/html": [
       "<table class=\"dataframe\">\n",
       "<caption>A data.table: 6 x 9</caption>\n",
       "<thead>\n",
       "\t<tr><th scope=col>BASKET_NUM</th><th scope=col>HSHD_NUM</th><th scope=col>PURCHASE_</th><th scope=col>PRODUCT_NUM</th><th scope=col>SPEND</th><th scope=col>UNITS</th><th scope=col>STORE_R</th><th scope=col>WEEK_NUM</th><th scope=col>YEAR</th></tr>\n",
       "\t<tr><th scope=col>&lt;int&gt;</th><th scope=col>&lt;int&gt;</th><th scope=col>&lt;chr&gt;</th><th scope=col>&lt;int&gt;</th><th scope=col>&lt;dbl&gt;</th><th scope=col>&lt;int&gt;</th><th scope=col>&lt;chr&gt;</th><th scope=col>&lt;int&gt;</th><th scope=col>&lt;int&gt;</th></tr>\n",
       "</thead>\n",
       "<tbody>\n",
       "\t<tr><td>    24</td><td>1809</td><td>03-JAN-16</td><td>5817389</td><td>-1.50</td><td>-1</td><td>SOUTH  </td><td> 1</td><td>2016</td></tr>\n",
       "\t<tr><td>    24</td><td>1809</td><td>03-JAN-16</td><td>5829886</td><td>-1.50</td><td>-1</td><td>SOUTH  </td><td> 1</td><td>2016</td></tr>\n",
       "\t<tr><td>  4955</td><td>2570</td><td>06-JAN-16</td><td>5391980</td><td>-0.38</td><td> 1</td><td>WEST   </td><td> 1</td><td>2016</td></tr>\n",
       "\t<tr><td> 28557</td><td>3153</td><td>22-JAN-16</td><td>5184651</td><td>-3.42</td><td> 9</td><td>CENTRAL</td><td> 3</td><td>2016</td></tr>\n",
       "\t<tr><td> 62654</td><td>4172</td><td>15-FEB-16</td><td> 300529</td><td>-0.71</td><td> 1</td><td>EAST   </td><td> 7</td><td>2016</td></tr>\n",
       "\t<tr><td>163292</td><td>3452</td><td>28-APR-16</td><td> 899378</td><td>-0.61</td><td> 1</td><td>SOUTH  </td><td>17</td><td>2016</td></tr>\n",
       "</tbody>\n",
       "</table>\n"
      ],
      "text/latex": [
       "A data.table: 6 x 9\n",
       "\\begin{tabular}{lllllllll}\n",
       " BASKET\\_NUM & HSHD\\_NUM & PURCHASE\\_ & PRODUCT\\_NUM & SPEND & UNITS & STORE\\_R & WEEK\\_NUM & YEAR\\\\\n",
       " <int> & <int> & <chr> & <int> & <dbl> & <int> & <chr> & <int> & <int>\\\\\n",
       "\\hline\n",
       "\t     24 & 1809 & 03-JAN-16 & 5817389 & -1.50 & -1 & SOUTH   &  1 & 2016\\\\\n",
       "\t     24 & 1809 & 03-JAN-16 & 5829886 & -1.50 & -1 & SOUTH   &  1 & 2016\\\\\n",
       "\t   4955 & 2570 & 06-JAN-16 & 5391980 & -0.38 &  1 & WEST    &  1 & 2016\\\\\n",
       "\t  28557 & 3153 & 22-JAN-16 & 5184651 & -3.42 &  9 & CENTRAL &  3 & 2016\\\\\n",
       "\t  62654 & 4172 & 15-FEB-16 &  300529 & -0.71 &  1 & EAST    &  7 & 2016\\\\\n",
       "\t 163292 & 3452 & 28-APR-16 &  899378 & -0.61 &  1 & SOUTH   & 17 & 2016\\\\\n",
       "\\end{tabular}\n"
      ],
      "text/markdown": [
       "\n",
       "A data.table: 6 x 9\n",
       "\n",
       "| BASKET_NUM &lt;int&gt; | HSHD_NUM &lt;int&gt; | PURCHASE_ &lt;chr&gt; | PRODUCT_NUM &lt;int&gt; | SPEND &lt;dbl&gt; | UNITS &lt;int&gt; | STORE_R &lt;chr&gt; | WEEK_NUM &lt;int&gt; | YEAR &lt;int&gt; |\n",
       "|---|---|---|---|---|---|---|---|---|\n",
       "|     24 | 1809 | 03-JAN-16 | 5817389 | -1.50 | -1 | SOUTH   |  1 | 2016 |\n",
       "|     24 | 1809 | 03-JAN-16 | 5829886 | -1.50 | -1 | SOUTH   |  1 | 2016 |\n",
       "|   4955 | 2570 | 06-JAN-16 | 5391980 | -0.38 |  1 | WEST    |  1 | 2016 |\n",
       "|  28557 | 3153 | 22-JAN-16 | 5184651 | -3.42 |  9 | CENTRAL |  3 | 2016 |\n",
       "|  62654 | 4172 | 15-FEB-16 |  300529 | -0.71 |  1 | EAST    |  7 | 2016 |\n",
       "| 163292 | 3452 | 28-APR-16 |  899378 | -0.61 |  1 | SOUTH   | 17 | 2016 |\n",
       "\n"
      ],
      "text/plain": [
       "  BASKET_NUM HSHD_NUM PURCHASE_ PRODUCT_NUM SPEND UNITS STORE_R WEEK_NUM YEAR\n",
       "1     24     1809     03-JAN-16 5817389     -1.50 -1    SOUTH    1       2016\n",
       "2     24     1809     03-JAN-16 5829886     -1.50 -1    SOUTH    1       2016\n",
       "3   4955     2570     06-JAN-16 5391980     -0.38  1    WEST     1       2016\n",
       "4  28557     3153     22-JAN-16 5184651     -3.42  9    CENTRAL  3       2016\n",
       "5  62654     4172     15-FEB-16  300529     -0.71  1    EAST     7       2016\n",
       "6 163292     3452     28-APR-16  899378     -0.61  1    SOUTH   17       2016"
      ]
     },
     "metadata": {},
     "output_type": "display_data"
    },
    {
     "data": {
      "text/plain": [
       "\n",
       "CENTRAL    EAST   SOUTH    WEST \n",
       "   2750    3269    2675    3952 "
      ]
     },
     "metadata": {},
     "output_type": "display_data"
    }
   ],
   "source": [
    "#Load the transaction data into the data frame using the fread function\n",
    "myDF <- fread(\"/anvil/projects/tdm/data/8451/The_Complete_Journey_2_Master/5000_transactions.csv\")\n",
    "#Checking the number of rows of the data frame with the dim function\n",
    "dim(myDF)\n",
    "#Creating a subset where with only row where SPEND is negative\n",
    "refundsDF <- subset(myDF, SPEND<0)\n",
    "#Checking the head of the new data frame to ensure only negative rows\n",
    "head(refundsDF)\n",
    "#Creating a table of the new data frame to display number of refunds per store region\n",
    "table(refundsDF$STORE_R)"
   ]
  },
  {
   "cell_type": "markdown",
   "id": "14dc22d4-ddc3-41cc-a91a-cb0025bc0c80",
   "metadata": {},
   "source": [
    "I create the refundsDF by using the subset function with the origional dataframe and the specification SPEND<0 so I only get rows where values in the spend column are negative. I display the head of the new dataframe to make sure I have the correct subset of refunds. I then use the table function specifying the STORE_R column to display each store region and how many refunds each has."
   ]
  },
  {
   "cell_type": "markdown",
   "id": "8e586edd-ff26-4ce2-8f6b-2424b26f2929",
   "metadata": {},
   "source": [
    "## Question 3"
   ]
  },
  {
   "cell_type": "code",
   "execution_count": 3,
   "id": "bbe0f40d-9655-4653-9ca8-886bdb61cb91",
   "metadata": {},
   "outputs": [
    {
     "data": {
      "text/html": [
       "<style>\n",
       ".list-inline {list-style: none; margin:0; padding: 0}\n",
       ".list-inline>li {display: inline-block}\n",
       ".list-inline>li:not(:last-child)::after {content: \"\\00b7\"; padding: 0 .5ex}\n",
       "</style>\n",
       "<ol class=list-inline><li>12436</li><li>10</li></ol>\n"
      ],
      "text/latex": [
       "\\begin{enumerate*}\n",
       "\\item 12436\n",
       "\\item 10\n",
       "\\end{enumerate*}\n"
      ],
      "text/markdown": [
       "1. 12436\n",
       "2. 10\n",
       "\n",
       "\n"
      ],
      "text/plain": [
       "[1] 12436    10"
      ]
     },
     "metadata": {},
     "output_type": "display_data"
    }
   ],
   "source": [
    "#Load the review data into the data frame using the fread function\n",
    "myDF <- fread(\"/anvil/projects/tdm/data/beer/reviews_sample.csv\")\n",
    "#Creating a subset where score is not 5 and overall is exactly 5\n",
    "fiveDF <- subset(myDF, (score != 5) & (overall == 5))\n",
    "#Checking the number of lines of data in the new subset\n",
    "dim(fiveDF)"
   ]
  },
  {
   "cell_type": "markdown",
   "id": "47c6229f-35f7-400c-8366-c442baa5cf47",
   "metadata": {},
   "source": [
    "I create a new dataframe called fiveDF using the subset function with the original dataframe specifying I only want rows where the score column does not have a 5's and the overall column only has a 5's. I use the dim function to geth the number of rows where the requirements are meant and get 12,436 lines of data in the subset."
   ]
  },
  {
   "cell_type": "markdown",
   "id": "da22f29c-d245-4d2b-9fc1-ca14cb6087d9",
   "metadata": {},
   "source": [
    "## Question 4"
   ]
  },
  {
   "cell_type": "code",
   "execution_count": 4,
   "id": "8cffc767-d1c8-4d64-b7dc-f0d2ee8a80d1",
   "metadata": {},
   "outputs": [
    {
     "data": {
      "text/plain": [
       "\n",
       "      CURCIO, BARBARA G SCHECK, RICHARD HERBERT          WOLFF, GARY W. \n",
       "                      1                       6                       2 "
      ]
     },
     "metadata": {},
     "output_type": "display_data"
    }
   ],
   "source": [
    "#Load in the library data.table for the fread function\n",
    "library(data.table)\n",
    "#Load the election data into the data frame using the fread function\n",
    "myDF <- fread(\"/anvil/projects/tdm/data/election/itcont1980.txt\", quote=\"\")\n",
    "#Specifying column names for file\n",
    "names(myDF) <- c(\"CMTE_ID\", \"AMNDT_IND\", \"RPT_TP\", \"TRANSACTION_PGI\", \"IMAGE_NUM\", \"TRANSACTION_TP\", \"ENTITY_TP\", \"NAME\", \"CITY\", \"STATE\", \"ZIP_CODE\", \"EMPLOYER\", \"OCCUPATION\", \"TRANSACTION_DT\", \"TRANSACTION_AMT\", \"OTHER_ID\", \"TRAN_ID\", \"FILE_NUM\", \"MEMO_CD\", \"MEMO_TEXT\", \"SUB_ID\")\n",
    "#Creating subset where of all rows where TRANSACTION_DT is N/A\n",
    "missingDF <- subset(myDF, is.na(TRANSACTION_DT))\n",
    "#Displaying a table to find the name of the person with 6 donations\n",
    "table(missingDF$NAME)"
   ]
  },
  {
   "cell_type": "markdown",
   "id": "0d552245-b4d6-474a-9cc9-fa7b8e674d55",
   "metadata": {},
   "source": [
    "I create the missingDF dataframe by using the subset function of the original dataframe and specifying That I want rows of data where the TRANSACTION_DT column has na values. I use the table function to display the names of all the people with missing TRANSACTION_DT and how many times they donated. I find that the name of the person who made 6 donations in 1980 with a missing TRANSACTION_DT is RICHARD HERBERT."
   ]
  },
  {
   "cell_type": "markdown",
   "id": "88c9cdac-3e92-498f-83fa-e089bfc44ac8",
   "metadata": {},
   "source": [
    "## Question 5"
   ]
  },
  {
   "cell_type": "code",
   "execution_count": 6,
   "id": "d370d7c9-06db-42b9-b75f-240481a5c491",
   "metadata": {},
   "outputs": [
    {
     "data": {
      "text/html": [
       "<style>\n",
       ".list-inline {list-style: none; margin:0; padding: 0}\n",
       ".list-inline>li {display: inline-block}\n",
       ".list-inline>li:not(:last-child)::after {content: \"\\00b7\"; padding: 0 .5ex}\n",
       "</style>\n",
       "<ol class=list-inline><li>5270893</li><li>29</li></ol>\n"
      ],
      "text/latex": [
       "\\begin{enumerate*}\n",
       "\\item 5270893\n",
       "\\item 29\n",
       "\\end{enumerate*}\n"
      ],
      "text/markdown": [
       "1. 5270893\n",
       "2. 29\n",
       "\n",
       "\n"
      ],
      "text/plain": [
       "[1] 5270893      29"
      ]
     },
     "metadata": {},
     "output_type": "display_data"
    },
    {
     "data": {
      "text/html": [
       "<style>\n",
       ".list-inline {list-style: none; margin:0; padding: 0}\n",
       ".list-inline>li {display: inline-block}\n",
       ".list-inline>li:not(:last-child)::after {content: \"\\00b7\"; padding: 0 .5ex}\n",
       "</style>\n",
       "<ol class=list-inline><li>52458</li><li>29</li></ol>\n"
      ],
      "text/latex": [
       "\\begin{enumerate*}\n",
       "\\item 52458\n",
       "\\item 29\n",
       "\\end{enumerate*}\n"
      ],
      "text/markdown": [
       "1. 52458\n",
       "2. 29\n",
       "\n",
       "\n"
      ],
      "text/plain": [
       "[1] 52458    29"
      ]
     },
     "metadata": {},
     "output_type": "display_data"
    },
    {
     "data": {
      "text/html": [
       "<style>\n",
       ".list-inline {list-style: none; margin:0; padding: 0}\n",
       ".list-inline>li {display: inline-block}\n",
       ".list-inline>li:not(:last-child)::after {content: \"\\00b7\"; padding: 0 .5ex}\n",
       "</style>\n",
       "<ol class=list-inline><li>15954</li><li>29</li></ol>\n"
      ],
      "text/latex": [
       "\\begin{enumerate*}\n",
       "\\item 15954\n",
       "\\item 29\n",
       "\\end{enumerate*}\n"
      ],
      "text/markdown": [
       "1. 15954\n",
       "2. 29\n",
       "\n",
       "\n"
      ],
      "text/plain": [
       "[1] 15954    29"
      ]
     },
     "metadata": {},
     "output_type": "display_data"
    },
    {
     "data": {
      "text/html": [
       "<style>\n",
       ".list-inline {list-style: none; margin:0; padding: 0}\n",
       ".list-inline>li {display: inline-block}\n",
       ".list-inline>li:not(:last-child)::after {content: \"\\00b7\"; padding: 0 .5ex}\n",
       "</style>\n",
       "<ol class=list-inline><li>0</li><li>29</li></ol>\n"
      ],
      "text/latex": [
       "\\begin{enumerate*}\n",
       "\\item 0\n",
       "\\item 29\n",
       "\\end{enumerate*}\n"
      ],
      "text/markdown": [
       "1. 0\n",
       "2. 29\n",
       "\n",
       "\n"
      ],
      "text/plain": [
       "[1]  0 29"
      ]
     },
     "metadata": {},
     "output_type": "display_data"
    }
   ],
   "source": [
    "#Load the flight data into the data frame using the fread function\n",
    "myDF <- fread(\"/anvil/projects/tdm/data/flights/subset/1990.csv\")\n",
    "#Check the number of rows in the origional data frame\n",
    "dim(myDF)\n",
    "#Creating a subset where DepDelay and ArrDelay is N/A\n",
    "bothDF <- subset(myDF, is.na(DepDelay) & is.na(ArrDelay))\n",
    "#Check the number of flights in the new data frame where DepDelay and ArrDelay is N/A\n",
    "dim(bothDF)\n",
    "#Creating a subset where DepDelay has values and ArrDelay is N/A\n",
    "arrDF <- subset(myDF, !is.na(DepDelay) & is.na(ArrDelay))\n",
    "#Check the number of flights in the data frame where DepDelay has values and ArrDelay is N/A\n",
    "dim(arrDF)\n",
    "#Creating a subset where DepDelay is N/A and ArrDelay has values\n",
    "depDF <- subset(myDF, is.na(DepDelay) & !is.na(ArrDelay))\n",
    "#Check the number of flights in the data frame where DepDelay is N/A and ArrDelay has values\n",
    "dim(depDF)"
   ]
  },
  {
   "cell_type": "markdown",
   "id": "9fbf00fb-2418-460f-ae94-2a32b0c28952",
   "metadata": {},
   "source": [
    "For this question I am supposed to get the number of flights given different requirements about the subsets of the dataframe. First I create the subset bothDF using the is.na functions for DepDelay and ArrDelay column which will give me rowns where both of those columns only have na values. I check the dimensions and get that there are 52,458 flights where both column values are na. I then make another subset called arrDF with the same exact structure but putting the '!' infront of the is.na function for DepDelay because I want real values for DepDelay and na values for ArrDelay. I check the dimensions and get that there are 15,954 flights where DepDelay has real values and ArrDelay has missing data. I then make another subset called depDF with the same exact structure but putting the '!' infront of the is.na function for ArrDelay because I want na values for DepDelay and real values for ArrDelay. I check the dimensions and get that there are 0 flights where DepDelay has na values and ArrDelay has real values."
   ]
  },
  {
   "cell_type": "markdown",
   "id": "f76442d6-d02e-4f26-b9d6-c3183e1d6929",
   "metadata": {},
   "source": [
    "## Pledge\n",
    "\n",
    "By submitting this work I hereby pledge that this is my own, personal work. I've acknowledged in the designated place at the top of this file all sources that I used to complete said work, including but not limited to: online resources, books, and electronic communications. I've noted all collaboration with fellow students and/or TA's. I did not copy or plagiarize another's work.\n",
    "\n",
    "> As a Boilermaker pursuing academic excellence, I pledge to be honest and true in all that I do. Accountable together – We are Purdue."
   ]
  }
 ],
 "metadata": {
  "kernelspec": {
   "display_name": "seminar-r",
   "language": "R",
   "name": "seminar-r"
  },
  "language_info": {
   "codemirror_mode": "r",
   "file_extension": ".r",
   "mimetype": "text/x-r-source",
   "name": "R",
   "pygments_lexer": "r",
   "version": "4.3.1"
  }
 },
 "nbformat": 4,
 "nbformat_minor": 5
}
