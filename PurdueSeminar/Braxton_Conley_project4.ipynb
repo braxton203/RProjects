{
 "cells": [
  {
   "cell_type": "markdown",
   "id": "be02a957-7133-4d02-818e-fedeb3cecb05",
   "metadata": {},
   "source": [
    "# Project 4 -- Braxton Conley"
   ]
  },
  {
   "cell_type": "markdown",
   "id": "a1228853-dd19-4ab2-89e0-0394d7d72de3",
   "metadata": {},
   "source": [
    "**TA Help:** \n",
    "\n",
    "- N/A\n",
    "    \n",
    "**Collaboration:** \n",
    "    \n",
    "- N/A"
   ]
  },
  {
   "cell_type": "markdown",
   "id": "6180e742-8e39-4698-98ff-5b00c8cf8ea0",
   "metadata": {},
   "source": [
    "## Question 1"
   ]
  },
  {
   "cell_type": "code",
   "execution_count": 1,
   "id": "49445606-d363-41b4-b479-e319a9a84c01",
   "metadata": {},
   "outputs": [
    {
     "data": {
      "text/html": [
       "<table class=\"dataframe\">\n",
       "<caption>A data.table: 6 x 38</caption>\n",
       "<thead>\n",
       "\t<tr><th scope=col>Id</th><th scope=col>ResidentStatus</th><th scope=col>Education1989Revision</th><th scope=col>Education2003Revision</th><th scope=col>EducationReportingFlag</th><th scope=col>MonthOfDeath</th><th scope=col>Sex</th><th scope=col>AgeType</th><th scope=col>Age</th><th scope=col>AgeSubstitutionFlag</th><th scope=col>...</th><th scope=col>CauseRecode39</th><th scope=col>NumberOfEntityAxisConditions</th><th scope=col>NumberOfRecordAxisConditions</th><th scope=col>Race</th><th scope=col>BridgedRaceFlag</th><th scope=col>RaceImputationFlag</th><th scope=col>RaceRecode3</th><th scope=col>RaceRecode5</th><th scope=col>HispanicOrigin</th><th scope=col>HispanicOriginRaceRecode</th></tr>\n",
       "\t<tr><th scope=col>&lt;int&gt;</th><th scope=col>&lt;int&gt;</th><th scope=col>&lt;int&gt;</th><th scope=col>&lt;int&gt;</th><th scope=col>&lt;int&gt;</th><th scope=col>&lt;int&gt;</th><th scope=col>&lt;chr&gt;</th><th scope=col>&lt;int&gt;</th><th scope=col>&lt;int&gt;</th><th scope=col>&lt;int&gt;</th><th scope=col>...</th><th scope=col>&lt;int&gt;</th><th scope=col>&lt;int&gt;</th><th scope=col>&lt;int&gt;</th><th scope=col>&lt;int&gt;</th><th scope=col>&lt;int&gt;</th><th scope=col>&lt;int&gt;</th><th scope=col>&lt;int&gt;</th><th scope=col>&lt;int&gt;</th><th scope=col>&lt;int&gt;</th><th scope=col>&lt;int&gt;</th></tr>\n",
       "</thead>\n",
       "<tbody>\n",
       "\t<tr><td>1</td><td>1</td><td>0</td><td>2</td><td>1</td><td>1</td><td>M</td><td>1</td><td>87</td><td>0</td><td>...</td><td>24</td><td>1</td><td>1</td><td>1</td><td>0</td><td>0</td><td>1</td><td>1</td><td>100</td><td>6</td></tr>\n",
       "\t<tr><td>2</td><td>1</td><td>0</td><td>2</td><td>1</td><td>1</td><td>M</td><td>1</td><td>58</td><td>0</td><td>...</td><td>21</td><td>3</td><td>3</td><td>1</td><td>0</td><td>0</td><td>1</td><td>1</td><td>100</td><td>6</td></tr>\n",
       "\t<tr><td>3</td><td>1</td><td>0</td><td>7</td><td>1</td><td>1</td><td>F</td><td>1</td><td>75</td><td>0</td><td>...</td><td>28</td><td>2</td><td>2</td><td>1</td><td>0</td><td>0</td><td>1</td><td>1</td><td>100</td><td>6</td></tr>\n",
       "\t<tr><td>4</td><td>1</td><td>0</td><td>6</td><td>1</td><td>1</td><td>M</td><td>1</td><td>74</td><td>0</td><td>...</td><td>22</td><td>3</td><td>3</td><td>1</td><td>0</td><td>0</td><td>1</td><td>1</td><td>100</td><td>6</td></tr>\n",
       "\t<tr><td>5</td><td>1</td><td>0</td><td>3</td><td>1</td><td>1</td><td>M</td><td>1</td><td>64</td><td>0</td><td>...</td><td>21</td><td>1</td><td>1</td><td>1</td><td>0</td><td>0</td><td>1</td><td>1</td><td>100</td><td>6</td></tr>\n",
       "\t<tr><td>6</td><td>1</td><td>0</td><td>5</td><td>1</td><td>1</td><td>F</td><td>1</td><td>93</td><td>0</td><td>...</td><td>37</td><td>5</td><td>5</td><td>1</td><td>0</td><td>0</td><td>1</td><td>1</td><td>100</td><td>6</td></tr>\n",
       "</tbody>\n",
       "</table>\n"
      ],
      "text/latex": [
       "A data.table: 6 x 38\n",
       "\\begin{tabular}{lllllllllllllllllllll}\n",
       " Id & ResidentStatus & Education1989Revision & Education2003Revision & EducationReportingFlag & MonthOfDeath & Sex & AgeType & Age & AgeSubstitutionFlag & ... & CauseRecode39 & NumberOfEntityAxisConditions & NumberOfRecordAxisConditions & Race & BridgedRaceFlag & RaceImputationFlag & RaceRecode3 & RaceRecode5 & HispanicOrigin & HispanicOriginRaceRecode\\\\\n",
       " <int> & <int> & <int> & <int> & <int> & <int> & <chr> & <int> & <int> & <int> & ... & <int> & <int> & <int> & <int> & <int> & <int> & <int> & <int> & <int> & <int>\\\\\n",
       "\\hline\n",
       "\t 1 & 1 & 0 & 2 & 1 & 1 & M & 1 & 87 & 0 & ... & 24 & 1 & 1 & 1 & 0 & 0 & 1 & 1 & 100 & 6\\\\\n",
       "\t 2 & 1 & 0 & 2 & 1 & 1 & M & 1 & 58 & 0 & ... & 21 & 3 & 3 & 1 & 0 & 0 & 1 & 1 & 100 & 6\\\\\n",
       "\t 3 & 1 & 0 & 7 & 1 & 1 & F & 1 & 75 & 0 & ... & 28 & 2 & 2 & 1 & 0 & 0 & 1 & 1 & 100 & 6\\\\\n",
       "\t 4 & 1 & 0 & 6 & 1 & 1 & M & 1 & 74 & 0 & ... & 22 & 3 & 3 & 1 & 0 & 0 & 1 & 1 & 100 & 6\\\\\n",
       "\t 5 & 1 & 0 & 3 & 1 & 1 & M & 1 & 64 & 0 & ... & 21 & 1 & 1 & 1 & 0 & 0 & 1 & 1 & 100 & 6\\\\\n",
       "\t 6 & 1 & 0 & 5 & 1 & 1 & F & 1 & 93 & 0 & ... & 37 & 5 & 5 & 1 & 0 & 0 & 1 & 1 & 100 & 6\\\\\n",
       "\\end{tabular}\n"
      ],
      "text/markdown": [
       "\n",
       "A data.table: 6 x 38\n",
       "\n",
       "| Id &lt;int&gt; | ResidentStatus &lt;int&gt; | Education1989Revision &lt;int&gt; | Education2003Revision &lt;int&gt; | EducationReportingFlag &lt;int&gt; | MonthOfDeath &lt;int&gt; | Sex &lt;chr&gt; | AgeType &lt;int&gt; | Age &lt;int&gt; | AgeSubstitutionFlag &lt;int&gt; | ... ... | CauseRecode39 &lt;int&gt; | NumberOfEntityAxisConditions &lt;int&gt; | NumberOfRecordAxisConditions &lt;int&gt; | Race &lt;int&gt; | BridgedRaceFlag &lt;int&gt; | RaceImputationFlag &lt;int&gt; | RaceRecode3 &lt;int&gt; | RaceRecode5 &lt;int&gt; | HispanicOrigin &lt;int&gt; | HispanicOriginRaceRecode &lt;int&gt; |\n",
       "|---|---|---|---|---|---|---|---|---|---|---|---|---|---|---|---|---|---|---|---|---|\n",
       "| 1 | 1 | 0 | 2 | 1 | 1 | M | 1 | 87 | 0 | ... | 24 | 1 | 1 | 1 | 0 | 0 | 1 | 1 | 100 | 6 |\n",
       "| 2 | 1 | 0 | 2 | 1 | 1 | M | 1 | 58 | 0 | ... | 21 | 3 | 3 | 1 | 0 | 0 | 1 | 1 | 100 | 6 |\n",
       "| 3 | 1 | 0 | 7 | 1 | 1 | F | 1 | 75 | 0 | ... | 28 | 2 | 2 | 1 | 0 | 0 | 1 | 1 | 100 | 6 |\n",
       "| 4 | 1 | 0 | 6 | 1 | 1 | M | 1 | 74 | 0 | ... | 22 | 3 | 3 | 1 | 0 | 0 | 1 | 1 | 100 | 6 |\n",
       "| 5 | 1 | 0 | 3 | 1 | 1 | M | 1 | 64 | 0 | ... | 21 | 1 | 1 | 1 | 0 | 0 | 1 | 1 | 100 | 6 |\n",
       "| 6 | 1 | 0 | 5 | 1 | 1 | F | 1 | 93 | 0 | ... | 37 | 5 | 5 | 1 | 0 | 0 | 1 | 1 | 100 | 6 |\n",
       "\n"
      ],
      "text/plain": [
       "  Id ResidentStatus Education1989Revision Education2003Revision\n",
       "1 1  1              0                     2                    \n",
       "2 2  1              0                     2                    \n",
       "3 3  1              0                     7                    \n",
       "4 4  1              0                     6                    \n",
       "5 5  1              0                     3                    \n",
       "6 6  1              0                     5                    \n",
       "  EducationReportingFlag MonthOfDeath Sex AgeType Age AgeSubstitutionFlag ...\n",
       "1 1                      1            M   1       87  0                   ...\n",
       "2 1                      1            M   1       58  0                   ...\n",
       "3 1                      1            F   1       75  0                   ...\n",
       "4 1                      1            M   1       74  0                   ...\n",
       "5 1                      1            M   1       64  0                   ...\n",
       "6 1                      1            F   1       93  0                   ...\n",
       "  CauseRecode39 NumberOfEntityAxisConditions NumberOfRecordAxisConditions Race\n",
       "1 24            1                            1                            1   \n",
       "2 21            3                            3                            1   \n",
       "3 28            2                            2                            1   \n",
       "4 22            3                            3                            1   \n",
       "5 21            1                            1                            1   \n",
       "6 37            5                            5                            1   \n",
       "  BridgedRaceFlag RaceImputationFlag RaceRecode3 RaceRecode5 HispanicOrigin\n",
       "1 0               0                  1           1           100           \n",
       "2 0               0                  1           1           100           \n",
       "3 0               0                  1           1           100           \n",
       "4 0               0                  1           1           100           \n",
       "5 0               0                  1           1           100           \n",
       "6 0               0                  1           1           100           \n",
       "  HispanicOriginRaceRecode\n",
       "1 6                       \n",
       "2 6                       \n",
       "3 6                       \n",
       "4 6                       \n",
       "5 6                       \n",
       "6 6                       "
      ]
     },
     "metadata": {},
     "output_type": "display_data"
    },
    {
     "data": {
      "text/html": [
       "<style>\n",
       ".dl-inline {width: auto; margin:0; padding: 0}\n",
       ".dl-inline>dt, .dl-inline>dd {float: none; width: auto; display: inline-block}\n",
       ".dl-inline>dt::after {content: \":\\0020\"; padding-right: .5ex}\n",
       ".dl-inline>dt:not(:first-of-type) {padding-left: .5ex}\n",
       "</style><dl class=dl-inline><dt>F</dt><dd>76.6766847989167</dd><dt>M</dt><dd>70.2278579695537</dd></dl>\n"
      ],
      "text/latex": [
       "\\begin{description*}\n",
       "\\item[F] 76.6766847989167\n",
       "\\item[M] 70.2278579695537\n",
       "\\end{description*}\n"
      ],
      "text/markdown": [
       "F\n",
       ":   76.6766847989167M\n",
       ":   70.2278579695537\n",
       "\n"
      ],
      "text/plain": [
       "       F        M \n",
       "76.67668 70.22786 "
      ]
     },
     "metadata": {},
     "output_type": "display_data"
    }
   ],
   "source": [
    "#Load in the library data.table for the fread function\n",
    "library(data.table)\n",
    "#Load the death records into the data frame using the fread function\n",
    "myDF <- fread(\"/anvil/projects/tdm/data/death_records/DeathRecords.csv\")\n",
    "#Look at the head of the data frame to confirm column names\n",
    "head(myDF)\n",
    "#Using the tapply function getting the mean age of death based on sex\n",
    "tapply(myDF$Age, myDF$Sex, mean)"
   ]
  },
  {
   "cell_type": "markdown",
   "id": "b456e57c-4a12-464b-999a-ef2df5af80c1",
   "metadata": {},
   "source": [
    "This is very straightforward as a similar question to project 3. I load in the necessary library to use the fread function. Then I load the data into the dataframe. Then I am looking at the head of the dataframe to see the column names that will be used in the tapply function. I use the tapply function with age in the first argument and mean in the third argument because I want the mean age then in the second argument is the sex because I want average age based on sex."
   ]
  },
  {
   "cell_type": "markdown",
   "id": "fc601975-35ed-4680-a4e1-0273ee3cc047",
   "metadata": {},
   "source": [
    "## Question 2"
   ]
  },
  {
   "cell_type": "code",
   "execution_count": 2,
   "id": "a16336a1-1ef0-41e8-bc7c-49387db27497",
   "metadata": {},
   "outputs": [
    {
     "data": {
      "text/html": [
       "<style>\n",
       ".dl-inline {width: auto; margin:0; padding: 0}\n",
       ".dl-inline>dt, .dl-inline>dd {float: none; width: auto; display: inline-block}\n",
       ".dl-inline>dt::after {content: \":\\0020\"; padding-right: .5ex}\n",
       ".dl-inline>dt:not(:first-of-type) {padding-left: .5ex}\n",
       "</style><dl class=dl-inline><dt>89415</dt><dd>50032.42</dd><dt>8523</dt><dd>53845.65</dd><dt>1344763</dt><dd>58170.84</dd><dt>4889358</dt><dd>63823.61</dd><dt>85201</dt><dd>65605.34</dd><dt>766108</dt><dd>66085</dd><dt>74424</dt><dd>75787.49</dd><dt>85311</dt><dd>102928.59</dd><dt>1367192</dt><dd>111433.78</dd><dt>8511</dt><dd>131399.78</dd></dl>\n"
      ],
      "text/latex": [
       "\\begin{description*}\n",
       "\\item[89415] 50032.42\n",
       "\\item[8523] 53845.65\n",
       "\\item[1344763] 58170.84\n",
       "\\item[4889358] 63823.61\n",
       "\\item[85201] 65605.34\n",
       "\\item[766108] 66085\n",
       "\\item[74424] 75787.49\n",
       "\\item[85311] 102928.59\n",
       "\\item[1367192] 111433.78\n",
       "\\item[8511] 131399.78\n",
       "\\end{description*}\n"
      ],
      "text/markdown": [
       "89415\n",
       ":   50032.428523\n",
       ":   53845.651344763\n",
       ":   58170.844889358\n",
       ":   63823.6185201\n",
       ":   65605.34766108\n",
       ":   6608574424\n",
       ":   75787.4985311\n",
       ":   102928.591367192\n",
       ":   111433.788511\n",
       ":   131399.78\n",
       "\n"
      ],
      "text/plain": [
       "    89415      8523   1344763   4889358     85201    766108     74424     85311 \n",
       " 50032.42  53845.65  58170.84  63823.61  65605.34  66085.00  75787.49 102928.59 \n",
       "  1367192      8511 \n",
       "111433.78 131399.78 "
      ]
     },
     "metadata": {},
     "output_type": "display_data"
    }
   ],
   "source": [
    "#Loading the transaction data into the dataframe\n",
    "myDF <- fread(\"/anvil/projects/tdm/data/8451/The_Complete_Journey_2_Master/5000_transactions.csv\")\n",
    "#Using the tapply function to get total spend per product\n",
    "#Using sort function around tapply to sort by ascending\n",
    "#Using tail function around sort with the parameter n=10 to get last 10 of the output\n",
    "tail(sort(tapply(myDF$SPEND, myDF$PRODUCT_NUM, sum)),n=10)"
   ]
  },
  {
   "cell_type": "markdown",
   "id": "14dc22d4-ddc3-41cc-a91a-cb0025bc0c80",
   "metadata": {},
   "source": [
    "This question requires a combination of previous functions learned. First I use the tapply function to get the total spend for each product number. Then I wrap tapply in the sort function to sort the output by ascending. The I wrap all that in tail with the argument n=10 to get an output of the 10 top product numbers based on spend for each."
   ]
  },
  {
   "cell_type": "markdown",
   "id": "8e586edd-ff26-4ce2-8f6b-2424b26f2929",
   "metadata": {},
   "source": [
    "## Question 3"
   ]
  },
  {
   "cell_type": "code",
   "execution_count": 3,
   "id": "bbe0f40d-9655-4653-9ca8-886bdb61cb91",
   "metadata": {},
   "outputs": [
    {
     "data": {
      "text/html": [
       "<table class=\"dataframe\">\n",
       "<caption>A data.table: 2 x 10</caption>\n",
       "<thead>\n",
       "\t<tr><th scope=col>beer_id</th><th scope=col>username</th><th scope=col>date</th><th scope=col>text</th><th scope=col>look</th><th scope=col>smell</th><th scope=col>taste</th><th scope=col>feel</th><th scope=col>overall</th><th scope=col>score</th></tr>\n",
       "\t<tr><th scope=col>&lt;int&gt;</th><th scope=col>&lt;chr&gt;</th><th scope=col>&lt;IDate&gt;</th><th scope=col>&lt;chr&gt;</th><th scope=col>&lt;dbl&gt;</th><th scope=col>&lt;dbl&gt;</th><th scope=col>&lt;dbl&gt;</th><th scope=col>&lt;dbl&gt;</th><th scope=col>&lt;dbl&gt;</th><th scope=col>&lt;dbl&gt;</th></tr>\n",
       "</thead>\n",
       "<tbody>\n",
       "\t<tr><td>271781</td><td>bluejacket74</td><td>2017-03-17</td><td><c2><a0><c2><a0> 750 ml bottle, 2016 vintage, bottle #304 of 360. Served in a DFH snifter, the beer pours dark brown/black with about an inch tan head that stuck around a little while. There's also a good amount of lacing. I like the aroma, the brew smells like dark fruit (raisin, plum), chocolate, roasted malt, and a bit of licorice. For the most part I think the taste is just like the aroma, but with some coffee flavor noticeable too. Mouthfeel/body is medium/full, it's creamy and coating with a moderate amount of carbonation. I think it's a good overall brew, worth picking up if you want a nice straight forward imperial stout. Here's hoping Four String brings this back in the future! $9.99 a bottle. <c2><a0></td><td>4.0</td><td>4.0</td><td>4.0</td><td>4.25</td><td>4.0</td><td>4.03</td></tr>\n",
       "\t<tr><td>125646</td><td>_dirty_     </td><td>2017-12-21</td><td><c2><a0><c2><a0>                                                                                                                                                                                                                                                                                                                                                                                                                                                                                                                                                                                                                                                                                                                                </td><td>4.5</td><td>4.5</td><td>4.5</td><td>4.50</td><td>4.5</td><td>4.50</td></tr>\n",
       "</tbody>\n",
       "</table>\n"
      ],
      "text/latex": [
       "A data.table: 2 x 10\n",
       "\\begin{tabular}{llllllllll}\n",
       " beer\\_id & username & date & text & look & smell & taste & feel & overall & score\\\\\n",
       " <int> & <chr> & <IDate> & <chr> & <dbl> & <dbl> & <dbl> & <dbl> & <dbl> & <dbl>\\\\\n",
       "\\hline\n",
       "\t 271781 & bluejacket74 & 2017-03-17 & <c2><a0><c2><a0> 750 ml bottle, 2016 vintage, bottle \\#304 of 360. Served in a DFH snifter, the beer pours dark brown/black with about an inch tan head that stuck around a little while. There's also a good amount of lacing. I like the aroma, the brew smells like dark fruit (raisin, plum), chocolate, roasted malt, and a bit of licorice. For the most part I think the taste is just like the aroma, but with some coffee flavor noticeable too. Mouthfeel/body is medium/full, it's creamy and coating with a moderate amount of carbonation. I think it's a good overall brew, worth picking up if you want a nice straight forward imperial stout. Here's hoping Four String brings this back in the future! \\$9.99 a bottle. <c2><a0> & 4.0 & 4.0 & 4.0 & 4.25 & 4.0 & 4.03\\\\\n",
       "\t 125646 & \\_dirty\\_      & 2017-12-21 & <c2><a0><c2><a0>                                                                                                                                                                                                                                                                                                                                                                                                                                                                                                                                                                                                                                                                                                                                 & 4.5 & 4.5 & 4.5 & 4.50 & 4.5 & 4.50\\\\\n",
       "\\end{tabular}\n"
      ],
      "text/markdown": [
       "\n",
       "A data.table: 2 x 10\n",
       "\n",
       "| beer_id &lt;int&gt; | username &lt;chr&gt; | date &lt;IDate&gt; | text &lt;chr&gt; | look &lt;dbl&gt; | smell &lt;dbl&gt; | taste &lt;dbl&gt; | feel &lt;dbl&gt; | overall &lt;dbl&gt; | score &lt;dbl&gt; |\n",
       "|---|---|---|---|---|---|---|---|---|---|\n",
       "| 271781 | bluejacket74 | 2017-03-17 | <c2><a0><c2><a0> 750 ml bottle, 2016 vintage, bottle #304 of 360. Served in a DFH snifter, the beer pours dark brown/black with about an inch tan head that stuck around a little while. There's also a good amount of lacing. I like the aroma, the brew smells like dark fruit (raisin, plum), chocolate, roasted malt, and a bit of licorice. For the most part I think the taste is just like the aroma, but with some coffee flavor noticeable too. Mouthfeel/body is medium/full, it's creamy and coating with a moderate amount of carbonation. I think it's a good overall brew, worth picking up if you want a nice straight forward imperial stout. Here's hoping Four String brings this back in the future! $9.99 a bottle. <c2><a0> | 4.0 | 4.0 | 4.0 | 4.25 | 4.0 | 4.03 |\n",
       "| 125646 | _dirty_      | 2017-12-21 | <c2><a0><c2><a0>                                                                                                                                                                                                                                                                                                                                                                                                                                                                                                                                                                                                                                                                                                                                 | 4.5 | 4.5 | 4.5 | 4.50 | 4.5 | 4.50 |\n",
       "\n"
      ],
      "text/plain": [
       "  beer_id username     date      \n",
       "1 271781  bluejacket74 2017-03-17\n",
       "2 125646  _dirty_      2017-12-21\n",
       "  text                                                                                                                                                                                                                                                                                                                                                                                                                                                                                                                                                                                                                                                                                                                                            \n",
       "1 \\302\\240\\302\\240 750 ml bottle, 2016 vintage, bottle #304 of 360. Served in a DFH snifter, the beer pours dark brown/black with about an inch tan head that stuck around a little while. There's also a good amount of lacing. I like the aroma, the brew smells like dark fruit (raisin, plum), chocolate, roasted malt, and a bit of licorice. For the most part I think the taste is just like the aroma, but with some coffee flavor noticeable too. Mouthfeel/body is medium/full, it's creamy and coating with a moderate amount of carbonation. I think it's a good overall brew, worth picking up if you want a nice straight forward imperial stout. Here's hoping Four String brings this back in the future! $9.99 a bottle. \\302\\240\n",
       "2 \\302\\240\\302\\240                                                                                                                                                                                                                                                                                                                                                                                                                                                                                                                                                                                                                                                                                                                                \n",
       "  look smell taste feel overall score\n",
       "1 4.0  4.0   4.0   4.25 4.0     4.03 \n",
       "2 4.5  4.5   4.5   4.50 4.5     4.50 "
      ]
     },
     "metadata": {},
     "output_type": "display_data"
    },
    {
     "data": {
      "text/html": [
       "<style>\n",
       ".dl-inline {width: auto; margin:0; padding: 0}\n",
       ".dl-inline>dt, .dl-inline>dd {float: none; width: auto; display: inline-block}\n",
       ".dl-inline>dt::after {content: \":\\0020\"; padding-right: .5ex}\n",
       ".dl-inline>dt:not(:first-of-type) {padding-left: .5ex}\n",
       "</style><dl class=dl-inline><dt>2001-04-26</dt><dd>5</dd><dt>2001-06-18</dt><dd>5</dd><dt>2002-01-26</dt><dd>5</dd></dl>\n"
      ],
      "text/latex": [
       "\\begin{description*}\n",
       "\\item[2001-04-26] 5\n",
       "\\item[2001-06-18] 5\n",
       "\\item[2002-01-26] 5\n",
       "\\end{description*}\n"
      ],
      "text/markdown": [
       "2001-04-26\n",
       ":   52001-06-18\n",
       ":   52002-01-26\n",
       ":   5\n",
       "\n"
      ],
      "text/plain": [
       "2001-04-26 2001-06-18 2002-01-26 \n",
       "         5          5          5 "
      ]
     },
     "metadata": {},
     "output_type": "display_data"
    }
   ],
   "source": [
    "#Loading the reviews data into the data frame\n",
    "myDF <- fread(\"/anvil/projects/tdm/data/beer/reviews_sample.csv\")\n",
    "#Looking at the head to get column names\n",
    "head(myDF, n=2)\n",
    "#Using the tapply function to get average score per date\n",
    "#Using sort function around tapply to sort by ascending\n",
    "#Using tail function around sort with the parameter n=3 to get the 3 dates that the average score was 5\n",
    "tail(sort(tapply(myDF$score, myDF$date, mean)),n=3)"
   ]
  },
  {
   "cell_type": "markdown",
   "id": "47c6229f-35f7-400c-8366-c442baa5cf47",
   "metadata": {},
   "source": [
    "This question is very similar to the previous one. I use the exact same combination of functions changing the tail function parameter from n=10 to n=3 because I am looking for 3 specific dates that have a rating of 5. The next thing I change is the arguments of the tapply function based on this new dataset and based on the fatct that I am looking for the mean score grouped by date. So I Score is the first argument, date the second and mean the third."
   ]
  },
  {
   "cell_type": "markdown",
   "id": "da22f29c-d245-4d2b-9fc1-ca14cb6087d9",
   "metadata": {},
   "source": [
    "## Question 4"
   ]
  },
  {
   "cell_type": "code",
   "execution_count": 10,
   "id": "8cffc767-d1c8-4d64-b7dc-f0d2ee8a80d1",
   "metadata": {},
   "outputs": [
    {
     "data": {
      "text/html": [
       "<style>\n",
       ".dl-inline {width: auto; margin:0; padding: 0}\n",
       ".dl-inline>dt, .dl-inline>dd {float: none; width: auto; display: inline-block}\n",
       ".dl-inline>dt::after {content: \":\\0020\"; padding-right: .5ex}\n",
       ".dl-inline>dt:not(:first-of-type) {padding-left: .5ex}\n",
       "</style><dl class=dl-inline><dt>NEW ORLEANS, LA</dt><dd>913896</dd><dt>CINCINNATI, OH</dt><dd>1096983</dd><dt>DENVER, CO</dt><dd>1183471</dd><dt>MIDLAND, TX</dt><dd>1210584</dd><dt>WASHINGTOM, DC</dt><dd>1300341</dd><dt>GREENWICH, CT</dt><dd>1340112</dd><dt>TULSA, OK</dt><dd>1341956</dd><dt>MIAMI, FL</dt><dd>1541867</dd><dt>SAN ANTONIO, TX</dt><dd>1583292</dd><dt>ST LOUIS, MO</dt><dd>1639570</dd><dt>OKLAHOMA CITY, OK</dt><dd>1751431</dd><dt>ATLANTA, GA</dt><dd>1892356</dd><dt>BEVERLY HILLS, CA</dt><dd>2053148</dd><dt>SAN FRANCISCO, CA</dt><dd>2061441</dd><dt>CHICAGO, IL</dt><dd>3179470</dd><dt>WASHINGTON, DC</dt><dd>4273606</dd><dt>LOS ANGELES, CA</dt><dd>4569952</dd><dt>DALLAS, TX</dt><dd>4748262</dd><dt>HOUSTON, TX</dt><dd>7606806</dd><dt>NEW YORK, NY</dt><dd>11345027</dd><dt>, </dt><dd>17299729</dd></dl>\n"
      ],
      "text/latex": [
       "\\begin{description*}\n",
       "\\item[NEW ORLEANS, LA] 913896\n",
       "\\item[CINCINNATI, OH] 1096983\n",
       "\\item[DENVER, CO] 1183471\n",
       "\\item[MIDLAND, TX] 1210584\n",
       "\\item[WASHINGTOM, DC] 1300341\n",
       "\\item[GREENWICH, CT] 1340112\n",
       "\\item[TULSA, OK] 1341956\n",
       "\\item[MIAMI, FL] 1541867\n",
       "\\item[SAN ANTONIO, TX] 1583292\n",
       "\\item[ST LOUIS, MO] 1639570\n",
       "\\item[OKLAHOMA CITY, OK] 1751431\n",
       "\\item[ATLANTA, GA] 1892356\n",
       "\\item[BEVERLY HILLS, CA] 2053148\n",
       "\\item[SAN FRANCISCO, CA] 2061441\n",
       "\\item[CHICAGO, IL] 3179470\n",
       "\\item[WASHINGTON, DC] 4273606\n",
       "\\item[LOS ANGELES, CA] 4569952\n",
       "\\item[DALLAS, TX] 4748262\n",
       "\\item[HOUSTON, TX] 7606806\n",
       "\\item[NEW YORK, NY] 11345027\n",
       "\\item[, ] 17299729\n",
       "\\end{description*}\n"
      ],
      "text/markdown": [
       "NEW ORLEANS, LA\n",
       ":   913896CINCINNATI, OH\n",
       ":   1096983DENVER, CO\n",
       ":   1183471MIDLAND, TX\n",
       ":   1210584WASHINGTOM, DC\n",
       ":   1300341GREENWICH, CT\n",
       ":   1340112TULSA, OK\n",
       ":   1341956MIAMI, FL\n",
       ":   1541867SAN ANTONIO, TX\n",
       ":   1583292ST LOUIS, MO\n",
       ":   1639570OKLAHOMA CITY, OK\n",
       ":   1751431ATLANTA, GA\n",
       ":   1892356BEVERLY HILLS, CA\n",
       ":   2053148SAN FRANCISCO, CA\n",
       ":   2061441CHICAGO, IL\n",
       ":   3179470WASHINGTON, DC\n",
       ":   4273606LOS ANGELES, CA\n",
       ":   4569952DALLAS, TX\n",
       ":   4748262HOUSTON, TX\n",
       ":   7606806NEW YORK, NY\n",
       ":   11345027, \n",
       ":   17299729\n",
       "\n"
      ],
      "text/plain": [
       "  NEW ORLEANS, LA    CINCINNATI, OH        DENVER, CO       MIDLAND, TX \n",
       "           913896           1096983           1183471           1210584 \n",
       "   WASHINGTOM, DC     GREENWICH, CT         TULSA, OK         MIAMI, FL \n",
       "          1300341           1340112           1341956           1541867 \n",
       "  SAN ANTONIO, TX      ST LOUIS, MO OKLAHOMA CITY, OK       ATLANTA, GA \n",
       "          1583292           1639570           1751431           1892356 \n",
       "BEVERLY HILLS, CA SAN FRANCISCO, CA       CHICAGO, IL    WASHINGTON, DC \n",
       "          2053148           2061441           3179470           4273606 \n",
       "  LOS ANGELES, CA        DALLAS, TX       HOUSTON, TX      NEW YORK, NY \n",
       "          4569952           4748262           7606806          11345027 \n",
       "               ,  \n",
       "         17299729 "
      ]
     },
     "metadata": {},
     "output_type": "display_data"
    }
   ],
   "source": [
    "#Loading the election data into the data frame\n",
    "myDF <- fread(\"/anvil/projects/tdm/data/election/itcont1980.txt\", quote=\"\")\n",
    "#Using the names function to apply column names because the file does not come with them\n",
    "names(myDF) <- c(\"CMTE_ID\", \"AMNDT_IND\", \"RPT_TP\", \"TRANSACTION_PGI\", \"IMAGE_NUM\", \"TRANSACTION_TP\", \"ENTITY_TP\", \"NAME\", \"CITY\", \"STATE\", \"ZIP_CODE\", \"EMPLOYER\", \"OCCUPATION\", \"TRANSACTION_DT\", \"TRANSACTION_AMT\", \"OTHER_ID\", \"TRAN_ID\", \"FILE_NUM\", \"MEMO_CD\", \"MEMO_TEXT\", \"SUB_ID\")\n",
    "#Using compination of paste, tapply, sort, and tail functions to out put top 20 city-state pairs\n",
    "tail(sort(tapply(myDF$TRANSACTION_AMT , paste(myDF$CITY, myDF$STATE, sep=\", \"), sum)),n=21)"
   ]
  },
  {
   "cell_type": "markdown",
   "id": "0d552245-b4d6-474a-9cc9-fa7b8e674d55",
   "metadata": {},
   "source": [
    "For this question it is asked to get the top 20 city-state pairs for donations. First to get the city-state pair I used the paste function with the city column and the state column, then the comma seperator argument. The paste function goes inside the second argument of the tapply function because I want the donations grouped by city-state pairs. The first argument is transactions and the third is sum because I want the sum of transactions/donations. Then I wrap tapply in the sort function becayse I want to sort the output by ascending. Then all of that is wrapped in tail with the parameter of n=21 because I want top 20 and the top donation is blank with no city-state so I use 21. I tried na.rm=TRUE to omit the blank output but it didn't work and it should not because the paste argumenbt is not the one being operated on."
   ]
  },
  {
   "cell_type": "markdown",
   "id": "88c9cdac-3e92-498f-83fa-e089bfc44ac8",
   "metadata": {},
   "source": [
    "## Question 5"
   ]
  },
  {
   "cell_type": "code",
   "execution_count": 2,
   "id": "d370d7c9-06db-42b9-b75f-240481a5c491",
   "metadata": {},
   "outputs": [
    {
     "data": {
      "text/html": [
       "<style>\n",
       ".dl-inline {width: auto; margin:0; padding: 0}\n",
       ".dl-inline>dt, .dl-inline>dd {float: none; width: auto; display: inline-block}\n",
       ".dl-inline>dt::after {content: \":\\0020\"; padding-right: .5ex}\n",
       ".dl-inline>dt:not(:first-of-type) {padding-left: .5ex}\n",
       "</style><dl class=dl-inline><dt>12/20/1990</dt><dd>27.3454025394168</dd><dt>2/15/1990</dt><dd>28.1230233789816</dd><dt>2/16/1990</dt><dd>36.1942212722046</dd><dt>12/28/1990</dt><dd>43.9144315757391</dd><dt>12/22/1990</dt><dd>45.2222488995598</dd><dt>12/21/1990</dt><dd>45.6617816091954</dd></dl>\n"
      ],
      "text/latex": [
       "\\begin{description*}\n",
       "\\item[12/20/1990] 27.3454025394168\n",
       "\\item[2/15/1990] 28.1230233789816\n",
       "\\item[2/16/1990] 36.1942212722046\n",
       "\\item[12/28/1990] 43.9144315757391\n",
       "\\item[12/22/1990] 45.2222488995598\n",
       "\\item[12/21/1990] 45.6617816091954\n",
       "\\end{description*}\n"
      ],
      "text/markdown": [
       "12/20/1990\n",
       ":   27.34540253941682/15/1990\n",
       ":   28.12302337898162/16/1990\n",
       ":   36.194221272204612/28/1990\n",
       ":   43.914431575739112/22/1990\n",
       ":   45.222248899559812/21/1990\n",
       ":   45.6617816091954\n",
       "\n"
      ],
      "text/plain": [
       "12/20/1990  2/15/1990  2/16/1990 12/28/1990 12/22/1990 12/21/1990 \n",
       "  27.34540   28.12302   36.19422   43.91443   45.22225   45.66178 "
      ]
     },
     "metadata": {},
     "output_type": "display_data"
    }
   ],
   "source": [
    "#Loading the flight data into the data frame\n",
    "myDF <- fread(\"/anvil/projects/tdm/data/flights/subset/1990.csv\")\n",
    "#Using compination of paste, tapply, sort, and tail functions to output the worst 6 average departure delays day/month/year\n",
    "tail(sort(tapply(myDF$DepDelay, paste(myDF$Month, myDF$DayofMonth, myDF$Year, sep=\"/\"), mean, na.rm=TRUE)),n=6)"
   ]
  },
  {
   "cell_type": "markdown",
   "id": "9fbf00fb-2418-460f-ae94-2a32b0c28952",
   "metadata": {},
   "source": [
    "This question uses the same function setup to acheive the goal with some key changes. The paste functions arguments are 1:month 2:day 3:year, with a / seperator to display a full date in MM/DD/YYYY form. The first arument of tapply is changed to departure delays column. Sum is changed to average because I want average departure delay. na.rm=TRUE is added so there are no na outputs. And the tail is now n=6 to output the 6 worst date along with average delay time."
   ]
  },
  {
   "cell_type": "markdown",
   "id": "f76442d6-d02e-4f26-b9d6-c3183e1d6929",
   "metadata": {},
   "source": [
    "## Pledge\n",
    "\n",
    "By submitting this work I hereby pledge that this is my own, personal work. I've acknowledged in the designated place at the top of this file all sources that I used to complete said work, including but not limited to: online resources, books, and electronic communications. I've noted all collaboration with fellow students and/or TA's. I did not copy or plagiarize another's work.\n",
    "\n",
    "> As a Boilermaker pursuing academic excellence, I pledge to be honest and true in all that I do. Accountable together – We are Purdue."
   ]
  }
 ],
 "metadata": {
  "kernelspec": {
   "display_name": "seminar-r",
   "language": "R",
   "name": "seminar-r"
  },
  "language_info": {
   "codemirror_mode": "r",
   "file_extension": ".r",
   "mimetype": "text/x-r-source",
   "name": "R",
   "pygments_lexer": "r",
   "version": "4.3.1"
  }
 },
 "nbformat": 4,
 "nbformat_minor": 5
}
